{
 "cells": [
  {
   "cell_type": "code",
   "execution_count": 1,
   "metadata": {},
   "outputs": [
    {
     "name": "stdout",
     "output_type": "stream",
     "text": [
      ">>> GPU activated? 1\n"
     ]
    }
   ],
   "source": [
    "import pandas as pd\n",
    "from cellpose import core, io, models, metrics\n",
    "from cellpose import train\n",
    "from sklearn.model_selection import KFold\n",
    "\n",
    "use_GPU = core.use_gpu()\n",
    "print('>>> GPU activated? %d'%use_GPU)"
   ]
  },
  {
   "cell_type": "code",
   "execution_count": 2,
   "metadata": {},
   "outputs": [],
   "source": [
    "# [\"cyto\", \"cyto3\",\"nuclei\",\"tissuenet_cp3\", \"livecell_cp3\", \"yeast_PhC_cp3\", \"yeast_BF_cp3\", \"bact_phase_cp3\", \"bact_fluor_cp3\", \"deepbacs_cp3\", \"scratch\"]\n",
    "initial_model = \"cyto3\" \n",
    "\n",
    "n_epochs =  350\n",
    "learning_rate = 0.1\n",
    "weight_decay = 0.0001\n",
    "\n",
    "chan = 0\n",
    "chan2 = 0\n",
    "\n",
    "if initial_model=='scratch':\n",
    "  initial_model = None"
   ]
  },
  {
   "cell_type": "code",
   "execution_count": 3,
   "metadata": {},
   "outputs": [],
   "source": [
    "dataset_dir = 'datasets/yh2ax'\n",
    "model_name = 'yh2ax_cyto3'\n",
    "\n",
    "results_file = 'results/results.csv'"
   ]
  },
  {
   "cell_type": "code",
   "execution_count": 4,
   "metadata": {},
   "outputs": [],
   "source": [
    "def precision(tp, fp):\n",
    "    return tp/(tp+fp) if tp > 0 else 0\n",
    "def recall(tp, fn):\n",
    "    return tp/(tp+fn) if tp > 0 else 0\n",
    "\n",
    "images, labels, _ = io.load_images_labels(dataset_dir)"
   ]
  },
  {
   "cell_type": "code",
   "execution_count": 5,
   "metadata": {},
   "outputs": [],
   "source": [
    "def cross_validate_cellpose(images, masks, save_file, n_splits=5):\n",
    "    kf = KFold(n_splits=n_splits, shuffle=True, random_state=42)\n",
    "    \n",
    "    for fold, (train_idx, test_idx) in enumerate(kf.split(images)):\n",
    "        print(f\"Starting fold {fold + 1}/{n_splits}...\")\n",
    "        \n",
    "        # print(f'Train idx:{train_idx}, test idx:{test_idx}\\n')\n",
    "        # continue\n",
    "\n",
    "        # Splitting the dataset\n",
    "        train_images, test_images = [images[i] for i in train_idx], [images[i] for i in test_idx]\n",
    "        train_masks, test_masks = [masks[i] for i in train_idx], [masks[i] for i in test_idx]\n",
    "\n",
    "        # Initialize Cellpose model\n",
    "        model = models.CellposeModel(gpu=use_GPU, model_type=initial_model)\n",
    "\n",
    "        train.train_seg(model.net, train_data=train_images, \n",
    "                              train_labels=train_masks, \n",
    "                              test_data=test_images,\n",
    "                              test_labels=test_masks,\n",
    "                              channels=[chan, chan2], \n",
    "                              save_path=dataset_dir, \n",
    "                              n_epochs=n_epochs,\n",
    "                              learning_rate=learning_rate, \n",
    "                              weight_decay=weight_decay, \n",
    "                              SGD=True,\n",
    "                              model_name=model_name+str(fold),\n",
    "                              min_train_masks=1,\n",
    "                              rescale=False,\n",
    "                              normalize={'normalize': True, 'percentile':[1,97]})\n",
    "        \n",
    "        diam_labels = model.net.diam_labels.item()\n",
    "\n",
    "        eval_masks = model.eval(test_images, \n",
    "                    channels=[chan, chan2],\n",
    "                    diameter=diam_labels, min_size=1,\n",
    "                    normalize={'normalize': True, 'percentile':[1,97]})[0]\n",
    "\n",
    "        ap_all, tp_all, fp_all, fn_all = metrics.average_precision(test_masks, eval_masks, threshold=0.1)\n",
    "\n",
    "        tp = [int(tp_all[:,i].sum()) for i in range(tp_all.shape[1])]\n",
    "        fp = [int(fp_all[:,i].sum()) for i in range(fp_all.shape[1])]\n",
    "        fn = [int(fn_all[:,i].sum()) for i in range(fn_all.shape[1])]\n",
    "        ap = [float(ap_all[:,i].mean()) for i in range(ap_all.shape[1])]\n",
    "\n",
    "        prec = precision(tp[0], fp[0])\n",
    "        rec = recall(tp[0], fn[0])\n",
    "\n",
    "        data = {\n",
    "            'model': [model_name+str(fold)],\n",
    "            'tp': [tp[0]],\n",
    "            'fp': [fp[0]],\n",
    "            'fn': [fn[0]],\n",
    "            'precision': [prec],\n",
    "            'recall': [rec],\n",
    "            'accuracy': [ap[0]]\n",
    "        }\n",
    "\n",
    "        df = pd.DataFrame(data)\n",
    "\n",
    "        df1 = pd.read_csv(save_file)\n",
    "\n",
    "        merged_df = pd.concat([df1, df], ignore_index=True)\n",
    "        merged_df = merged_df.sort_values(by='model', ascending=True)\n",
    "\n",
    "        merged_df.to_csv(results_file, index=False)\n",
    "\n",
    "        print(f\"Fold {fold + 1} completed.\")\n"
   ]
  },
  {
   "cell_type": "code",
   "execution_count": 6,
   "metadata": {},
   "outputs": [
    {
     "name": "stdout",
     "output_type": "stream",
     "text": [
      "Starting fold 1/5...\n"
     ]
    },
    {
     "name": "stderr",
     "output_type": "stream",
     "text": [
      "100%|██████████| 231/231 [00:02<00:00, 101.35it/s]\n",
      "100%|██████████| 58/58 [00:00<00:00, 198.77it/s]\n",
      "100%|██████████| 231/231 [00:00<00:00, 7074.21it/s]\n",
      "100%|██████████| 58/58 [00:00<00:00, 8574.89it/s]\n"
     ]
    },
    {
     "name": "stdout",
     "output_type": "stream",
     "text": [
      "Fold 1 completed.\n",
      "Starting fold 2/5...\n"
     ]
    },
    {
     "name": "stderr",
     "output_type": "stream",
     "text": [
      "100%|██████████| 231/231 [00:01<00:00, 192.55it/s]\n",
      "100%|██████████| 58/58 [00:00<00:00, 187.37it/s]\n",
      "100%|██████████| 231/231 [00:00<00:00, 7422.52it/s]\n",
      "100%|██████████| 58/58 [00:00<00:00, 5946.02it/s]\n"
     ]
    },
    {
     "name": "stdout",
     "output_type": "stream",
     "text": [
      "Fold 2 completed.\n",
      "Starting fold 3/5...\n"
     ]
    },
    {
     "name": "stderr",
     "output_type": "stream",
     "text": [
      "100%|██████████| 231/231 [00:01<00:00, 198.96it/s]\n",
      "100%|██████████| 58/58 [00:00<00:00, 211.92it/s]\n",
      "100%|██████████| 231/231 [00:00<00:00, 8634.41it/s]\n",
      "100%|██████████| 58/58 [00:00<00:00, 5898.73it/s]\n"
     ]
    },
    {
     "name": "stdout",
     "output_type": "stream",
     "text": [
      "Fold 3 completed.\n",
      "Starting fold 4/5...\n"
     ]
    },
    {
     "name": "stderr",
     "output_type": "stream",
     "text": [
      "100%|██████████| 231/231 [00:01<00:00, 207.34it/s]\n",
      "100%|██████████| 58/58 [00:00<00:00, 189.10it/s]\n",
      "100%|██████████| 231/231 [00:00<00:00, 8101.78it/s]\n",
      "100%|██████████| 58/58 [00:00<00:00, 7249.88it/s]\n"
     ]
    },
    {
     "name": "stdout",
     "output_type": "stream",
     "text": [
      "Fold 4 completed.\n",
      "Starting fold 5/5...\n"
     ]
    },
    {
     "name": "stderr",
     "output_type": "stream",
     "text": [
      "100%|██████████| 232/232 [00:01<00:00, 188.35it/s]\n",
      "100%|██████████| 57/57 [00:00<00:00, 184.95it/s]\n",
      "100%|██████████| 232/232 [00:00<00:00, 8147.08it/s]\n",
      "100%|██████████| 57/57 [00:00<00:00, 8121.04it/s]\n"
     ]
    },
    {
     "name": "stdout",
     "output_type": "stream",
     "text": [
      "Fold 5 completed.\n"
     ]
    }
   ],
   "source": [
    "cross_validate_cellpose(images, labels, save_file=results_file, n_splits=5)"
   ]
  }
 ],
 "metadata": {
  "kernelspec": {
   "display_name": "cellpose",
   "language": "python",
   "name": "python3"
  },
  "language_info": {
   "codemirror_mode": {
    "name": "ipython",
    "version": 3
   },
   "file_extension": ".py",
   "mimetype": "text/x-python",
   "name": "python",
   "nbconvert_exporter": "python",
   "pygments_lexer": "ipython3",
   "version": "3.8.5"
  }
 },
 "nbformat": 4,
 "nbformat_minor": 2
}
